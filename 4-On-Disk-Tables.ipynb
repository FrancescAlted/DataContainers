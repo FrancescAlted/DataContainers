{
 "cells": [
  {
   "cell_type": "markdown",
   "metadata": {},
   "source": [
    "# Querying On-Disk Tables"
   ]
  },
  {
   "cell_type": "markdown",
   "metadata": {},
   "source": [
    "> Objectives:\n",
    "> * Compare queries of tabular data for **on-disk** containers\n",
    "> * Compare sizes and times for those"
   ]
  },
  {
   "cell_type": "code",
   "execution_count": 1,
   "metadata": {
    "collapsed": false
   },
   "outputs": [
    {
     "name": "stdout",
     "output_type": "stream",
     "text": [
      "In [1] used 0.035 MiB RAM in 0.001s, peaked 0.000 MiB above current, total RAM usage 35.004 MiB\n"
     ]
    }
   ],
   "source": [
    "from ipython_memwatcher import MemWatcher\n",
    "mw = MemWatcher()\n",
    "mw.start_watching_memory()"
   ]
  },
  {
   "cell_type": "markdown",
   "metadata": {},
   "source": [
    "## Load movielens datasets in pandas DataFrames"
   ]
  },
  {
   "cell_type": "code",
   "execution_count": 2,
   "metadata": {
    "collapsed": false
   },
   "outputs": [
    {
     "name": "stdout",
     "output_type": "stream",
     "text": [
      "In [2] used 0.027 MiB RAM in 0.002s, peaked 0.000 MiB above current, total RAM usage 35.031 MiB\n"
     ]
    }
   ],
   "source": [
    "import os\n",
    "dset = 'movielens-1m'\n",
    "fdata = os.path.join(dset, 'ratings.dat.gz')\n",
    "fitem = os.path.join(dset, 'movies.dat')"
   ]
  },
  {
   "cell_type": "code",
   "execution_count": 3,
   "metadata": {
    "collapsed": false
   },
   "outputs": [
    {
     "name": "stdout",
     "output_type": "stream",
     "text": [
      "In [3] used 68.766 MiB RAM in 0.591s, peaked 6.285 MiB above current, total RAM usage 103.797 MiB\n"
     ]
    }
   ],
   "source": [
    "# Import CSV files via pandas\n",
    "import pandas as pd\n",
    "# pass in column names for each CSV\n",
    "r_cols = ['user_id', 'movie_id', 'rating', 'unix_timestamp']\n",
    "ratings = pd.read_csv(fdata, sep=';', names=r_cols, compression='gzip')\n",
    "\n",
    "m_cols = ['movie_id', 'title', 'genres']\n",
    "movies = pd.read_csv(fitem, sep=';', names=m_cols,\n",
    "                     dtype={'title': object, 'genres': object})"
   ]
  },
  {
   "cell_type": "code",
   "execution_count": 4,
   "metadata": {
    "collapsed": false
   },
   "outputs": [
    {
     "name": "stdout",
     "output_type": "stream",
     "text": [
      "In [4] used 121.320 MiB RAM in 4.229s, peaked 122.727 MiB above current, total RAM usage 225.117 MiB\n"
     ]
    }
   ],
   "source": [
    "# Store movies and ratings in 2 separate tables in SQLite\n",
    "sqlite_norm = \"movielens-norm.sqlite\"\n",
    "if os.path.exists(sqlite_norm):\n",
    "    os.unlink(sqlite_norm)\n",
    "import sqlite3\n",
    "conn = sqlite3.connect(sqlite_norm)\n",
    "conn.text_factory = str   # Shut up problems with Unicode\n",
    "ratings.to_sql(\"ratings\", conn)\n",
    "movies.to_sql(\"movies\", conn)\n",
    "conn.close()"
   ]
  },
  {
   "cell_type": "code",
   "execution_count": 5,
   "metadata": {
    "collapsed": false
   },
   "outputs": [
    {
     "name": "stdout",
     "output_type": "stream",
     "text": [
      "In [5] used 85.203 MiB RAM in 0.105s, peaked 0.000 MiB above current, total RAM usage 310.320 MiB\n"
     ]
    }
   ],
   "source": [
    "# create one merged DataFrame\n",
    "lens = pd.merge(movies, ratings)"
   ]
  },
  {
   "cell_type": "code",
   "execution_count": 6,
   "metadata": {
    "collapsed": false
   },
   "outputs": [
    {
     "name": "stdout",
     "output_type": "stream",
     "text": [
      "<class 'pandas.core.frame.DataFrame'>\n",
      "Int64Index: 1000209 entries, 0 to 1000208\n",
      "Data columns (total 6 columns):\n",
      "movie_id          1000209 non-null int64\n",
      "title             1000209 non-null object\n",
      "genres            1000209 non-null object\n",
      "user_id           1000209 non-null int64\n",
      "rating            1000209 non-null int64\n",
      "unix_timestamp    1000209 non-null int64\n",
      "dtypes: int64(4), object(2)\n",
      "memory usage: 53.4+ MB\n",
      "In [6] used 61.137 MiB RAM in 0.181s, peaked 0.000 MiB above current, total RAM usage 371.457 MiB\n"
     ]
    }
   ],
   "source": [
    "lens.info()"
   ]
  },
  {
   "cell_type": "code",
   "execution_count": 7,
   "metadata": {
    "collapsed": false
   },
   "outputs": [
    {
     "name": "stdout",
     "output_type": "stream",
     "text": [
      "In [7] used 38.457 MiB RAM in 5.216s, peaked 108.090 MiB above current, total RAM usage 409.914 MiB\n"
     ]
    }
   ],
   "source": [
    "# Store lens denormalized in 1 table in SQLite\n",
    "sqlite_denorm = \"movielens-denorm.sqlite\"\n",
    "if os.path.exists(sqlite_denorm):\n",
    "    os.unlink(sqlite_denorm)\n",
    "conn_denorm = sqlite3.connect(sqlite_denorm)\n",
    "conn_denorm.text_factory = str   # Shut up problems with Unicode\n",
    "lens.to_sql(\"lens\", conn_denorm)\n",
    "conn_denorm.close()"
   ]
  },
  {
   "cell_type": "code",
   "execution_count": 8,
   "metadata": {
    "collapsed": false,
    "scrolled": true
   },
   "outputs": [
    {
     "name": "stdout",
     "output_type": "stream",
     "text": [
      "In [8] used 0.012 MiB RAM in 0.001s, peaked 0.000 MiB above current, total RAM usage 409.926 MiB\n"
     ]
    }
   ],
   "source": [
    "# Get rid of unnecessary containers to save memory\n",
    "del movies, ratings"
   ]
  },
  {
   "cell_type": "code",
   "execution_count": 9,
   "metadata": {
    "collapsed": false
   },
   "outputs": [
    {
     "name": "stdout",
     "output_type": "stream",
     "text": [
      "CPU times: user 44 ms, sys: 0 ns, total: 44 ms\n",
      "Wall time: 42.4 ms\n"
     ]
    },
    {
     "data": {
      "text/plain": [
       "5121      75\n",
       "5164    3842\n",
       "5187    6031\n",
       "Name: user_id, dtype: int64"
      ]
     },
     "execution_count": 9,
     "metadata": {},
     "output_type": "execute_result"
    },
    {
     "name": "stdout",
     "output_type": "stream",
     "text": [
      "In [9] used 0.215 MiB RAM in 0.054s, peaked 0.000 MiB above current, total RAM usage 410.141 MiB\n"
     ]
    }
   ],
   "source": [
    "%time result = lens.query(\"(title == 'Tom and Huck (1995)') & (rating == 5)\")['user_id']\n",
    "result"
   ]
  },
  {
   "cell_type": "code",
   "execution_count": 10,
   "metadata": {
    "collapsed": false
   },
   "outputs": [
    {
     "data": {
      "text/plain": [
       "0.054290056228637695"
      ]
     },
     "execution_count": 10,
     "metadata": {},
     "output_type": "execute_result"
    },
    {
     "name": "stdout",
     "output_type": "stream",
     "text": [
      "In [10] used -0.008 MiB RAM in 0.003s, peaked 0.012 MiB above current, total RAM usage 410.133 MiB\n"
     ]
    }
   ],
   "source": [
    "# keep the run-time for reference\n",
    "qtime_pandas_mem = mw.measurements.time_delta\n",
    "qtime_pandas_mem"
   ]
  },
  {
   "cell_type": "markdown",
   "metadata": {},
   "source": [
    "## Querying on-disk data with SQLite (relational database)"
   ]
  },
  {
   "cell_type": "code",
   "execution_count": 11,
   "metadata": {
    "collapsed": false
   },
   "outputs": [
    {
     "name": "stdout",
     "output_type": "stream",
     "text": [
      "In [11] used 0.008 MiB RAM in 0.002s, peaked 0.000 MiB above current, total RAM usage 410.141 MiB\n"
     ]
    }
   ],
   "source": [
    "# Execute the query with the de-normalized SQLite database\n",
    "conn = sqlite3.connect(sqlite_denorm)\n",
    "c = conn.cursor()"
   ]
  },
  {
   "cell_type": "code",
   "execution_count": 12,
   "metadata": {
    "collapsed": false
   },
   "outputs": [
    {
     "name": "stdout",
     "output_type": "stream",
     "text": [
      "CPU times: user 104 ms, sys: 44 ms, total: 148 ms\n",
      "Wall time: 146 ms\n",
      "In [12] used 0.000 MiB RAM in 0.148s, peaked 0.000 MiB above current, total RAM usage 410.141 MiB\n"
     ]
    }
   ],
   "source": [
    "q = \"select user_id from lens where title == 'Tom and Huck (1995)' and rating == 5\"\n",
    "%time result = [r for r in c.execute(q)]"
   ]
  },
  {
   "cell_type": "code",
   "execution_count": 13,
   "metadata": {
    "collapsed": false
   },
   "outputs": [
    {
     "data": {
      "text/plain": [
       "[(75,), (3842,), (6031,)]"
      ]
     },
     "execution_count": 13,
     "metadata": {},
     "output_type": "execute_result"
    },
    {
     "name": "stdout",
     "output_type": "stream",
     "text": [
      "In [13] used 0.004 MiB RAM in 0.004s, peaked 0.000 MiB above current, total RAM usage 410.145 MiB\n"
     ]
    }
   ],
   "source": [
    "# keep the run-time for reference\n",
    "qtime_sqlite_denorm = mw.measurements.time_delta\n",
    "# ...and print the result\n",
    "result"
   ]
  },
  {
   "cell_type": "code",
   "execution_count": 14,
   "metadata": {
    "collapsed": false,
    "scrolled": true
   },
   "outputs": [
    {
     "name": "stdout",
     "output_type": "stream",
     "text": [
      "In [14] used 0.000 MiB RAM in 0.013s, peaked 0.000 MiB above current, total RAM usage 410.145 MiB\n"
     ]
    }
   ],
   "source": [
    "# Execute the query with the normalized SQLite database\n",
    "conn = sqlite3.connect(sqlite_norm)\n",
    "c = conn.cursor()"
   ]
  },
  {
   "cell_type": "code",
   "execution_count": 15,
   "metadata": {
    "collapsed": false
   },
   "outputs": [
    {
     "name": "stdout",
     "output_type": "stream",
     "text": [
      "CPU times: user 392 ms, sys: 40 ms, total: 432 ms\n",
      "Wall time: 425 ms\n",
      "In [15] used 0.000 MiB RAM in 0.428s, peaked 0.000 MiB above current, total RAM usage 410.145 MiB\n"
     ]
    }
   ],
   "source": [
    "q = \"\"\"\n",
    "select ratings.user_id from movies \n",
    "INNER JOIN ratings ON movies.movie_id = ratings.movie_id\n",
    "where movies.title == 'Tom and Huck (1995)' and ratings.rating == 5\n",
    "\"\"\"\n",
    "%time result = [r for r in c.execute(q)]"
   ]
  },
  {
   "cell_type": "code",
   "execution_count": 16,
   "metadata": {
    "collapsed": false
   },
   "outputs": [
    {
     "data": {
      "text/plain": [
       "[(75,), (3842,), (6031,)]"
      ]
     },
     "execution_count": 16,
     "metadata": {},
     "output_type": "execute_result"
    },
    {
     "name": "stdout",
     "output_type": "stream",
     "text": [
      "In [16] used 0.000 MiB RAM in 0.003s, peaked 0.000 MiB above current, total RAM usage 410.145 MiB\n"
     ]
    }
   ],
   "source": [
    "# keep the run-time for reference\n",
    "qtime_sqlite_norm = mw.measurements.time_delta\n",
    "# ...and print the result\n",
    "result"
   ]
  },
  {
   "cell_type": "markdown",
   "metadata": {},
   "source": [
    "So in general, we see that it is much faster to query tables in denormalized form, although they take much more storage:"
   ]
  },
  {
   "cell_type": "code",
   "execution_count": 17,
   "metadata": {
    "collapsed": false
   },
   "outputs": [
    {
     "name": "stdout",
     "output_type": "stream",
     "text": [
      "-rw-r--r-- 1 faltet faltet 78M abr  4 13:20 movielens-denorm.sqlite\n",
      "-rw-r--r-- 1 faltet faltet 37M abr  4 13:20 movielens-norm.sqlite\n",
      "In [17] used 0.293 MiB RAM in 0.194s, peaked 0.000 MiB above current, total RAM usage 410.438 MiB\n"
     ]
    }
   ],
   "source": [
    "!ls -lh $sqlite_norm $sqlite_denorm"
   ]
  },
  {
   "cell_type": "markdown",
   "metadata": {},
   "source": [
    "In some way, storing tables in normalized form is a kind of compression, but that comes to the cost of using more time to process queries.  Let's enter another way to compress denormalized data tables on-disk:"
   ]
  },
  {
   "cell_type": "markdown",
   "metadata": {},
   "source": [
    "## bcolz"
   ]
  },
  {
   "cell_type": "markdown",
   "metadata": {},
   "source": [
    "`bcolz` cannot only deal with data in-memory, but also on-disk using exactly the same API.  Let's try that."
   ]
  },
  {
   "cell_type": "code",
   "execution_count": 18,
   "metadata": {
    "collapsed": false,
    "scrolled": true
   },
   "outputs": [
    {
     "name": "stdout",
     "output_type": "stream",
     "text": [
      "-=-=-=-=-=-=-=-=-=-=-=-=-=-=-=-=-=-=-=-=-=-=-=-=-=-=-=-=-=-=-=-=-=-=-=-=-=-=\n",
      "bcolz version:     1.0.0rc2\n",
      "NumPy version:     1.10.4\n",
      "Blosc version:     1.8.0 ($Date:: 2016-03-31 #$)\n",
      "Blosc compressors: ['blosclz', 'lz4', 'lz4hc', 'snappy', 'zlib']\n",
      "Numexpr version:   2.5.1\n",
      "Python version:    2.7.11 |Continuum Analytics, Inc.| (default, Dec  6 2015, 18:08:32) \n",
      "[GCC 4.4.7 20120313 (Red Hat 4.4.7-1)]\n",
      "Platform:          linux2-x86_64\n",
      "Byte-ordering:     little\n",
      "Detected cores:    4\n",
      "-=-=-=-=-=-=-=-=-=-=-=-=-=-=-=-=-=-=-=-=-=-=-=-=-=-=-=-=-=-=-=-=-=-=-=-=-=-=\n"
     ]
    },
    {
     "data": {
      "text/plain": [
       "4"
      ]
     },
     "execution_count": 18,
     "metadata": {},
     "output_type": "execute_result"
    },
    {
     "name": "stdout",
     "output_type": "stream",
     "text": [
      "In [18] used 5.523 MiB RAM in 0.049s, peaked 0.000 MiB above current, total RAM usage 415.961 MiB\n"
     ]
    }
   ],
   "source": [
    "import bcolz\n",
    "bcolz.print_versions()\n",
    "bcolz.defaults.cparams['cname'] = 'lz4'\n",
    "bcolz.defaults.cparams['clevel'] = 5\n",
    "bcolz.set_nthreads(4)"
   ]
  },
  {
   "cell_type": "code",
   "execution_count": 19,
   "metadata": {
    "collapsed": false
   },
   "outputs": [
    {
     "name": "stdout",
     "output_type": "stream",
     "text": [
      "In [19] used 2.176 MiB RAM in 0.347s, peaked 78.219 MiB above current, total RAM usage 418.137 MiB\n"
     ]
    }
   ],
   "source": [
    "# Import a pandas DataFrame in a ctable on-disk\n",
    "bcolz_dir = \"movielens-denorm.bcolz\"\n",
    "if os.path.exists(bcolz_dir):\n",
    "    import shutil\n",
    "    shutil.rmtree(bcolz_dir)\n",
    "zlens = bcolz.ctable.fromdataframe(lens, rootdir=bcolz_dir)"
   ]
  },
  {
   "cell_type": "code",
   "execution_count": 20,
   "metadata": {
    "collapsed": false
   },
   "outputs": [
    {
     "name": "stdout",
     "output_type": "stream",
     "text": [
      "CPU times: user 312 ms, sys: 16 ms, total: 328 ms\n",
      "Wall time: 177 ms\n"
     ]
    },
    {
     "data": {
      "text/plain": [
       "array([  75, 3842, 6031])"
      ]
     },
     "execution_count": 20,
     "metadata": {},
     "output_type": "execute_result"
    },
    {
     "name": "stdout",
     "output_type": "stream",
     "text": [
      "In [20] used 0.336 MiB RAM in 0.181s, peaked 0.000 MiB above current, total RAM usage 418.473 MiB\n"
     ]
    }
   ],
   "source": [
    "%time result = zlens[\"(title == b'Tom and Huck (1995)') & (rating == 5)\"]['user_id']\n",
    "result"
   ]
  },
  {
   "cell_type": "code",
   "execution_count": 21,
   "metadata": {
    "collapsed": false
   },
   "outputs": [
    {
     "data": {
      "text/plain": [
       "array([  75, 3842, 6031])"
      ]
     },
     "execution_count": 21,
     "metadata": {},
     "output_type": "execute_result"
    },
    {
     "name": "stdout",
     "output_type": "stream",
     "text": [
      "In [21] used 0.023 MiB RAM in 0.003s, peaked 0.000 MiB above current, total RAM usage 418.496 MiB\n"
     ]
    }
   ],
   "source": [
    "# keep the run-time for reference\n",
    "qtime_bcolz = mw.measurements.time_delta\n",
    "# ...and print the result (for reference too)\n",
    "result"
   ]
  },
  {
   "cell_type": "code",
   "execution_count": 22,
   "metadata": {
    "collapsed": false
   },
   "outputs": [
    {
     "name": "stdout",
     "output_type": "stream",
     "text": [
      "CPU times: user 224 ms, sys: 8 ms, total: 232 ms\n",
      "Wall time: 143 ms\n",
      "In [22] used 0.004 MiB RAM in 0.145s, peaked 0.000 MiB above current, total RAM usage 418.500 MiB\n"
     ]
    }
   ],
   "source": [
    "# One can optimize the query more\n",
    "%time result = [r.user_id for r in zlens.where(\"(title == b'Tom and Huck (1995)') & (rating == 5)\", outcols=['user_id'])]"
   ]
  },
  {
   "cell_type": "code",
   "execution_count": 23,
   "metadata": {
    "collapsed": false
   },
   "outputs": [
    {
     "data": {
      "text/plain": [
       "[75, 3842, 6031]"
      ]
     },
     "execution_count": 23,
     "metadata": {},
     "output_type": "execute_result"
    },
    {
     "name": "stdout",
     "output_type": "stream",
     "text": [
      "In [23] used 0.008 MiB RAM in 0.003s, peaked 0.000 MiB above current, total RAM usage 418.508 MiB\n"
     ]
    }
   ],
   "source": [
    "# keep the run-time for reference\n",
    "qtime_bcolz_opt = mw.measurements.time_delta\n",
    "# ...and print the result (for reference too)\n",
    "result"
   ]
  },
  {
   "cell_type": "markdown",
   "metadata": {},
   "source": [
    "Let's see the space consumed on-disk:"
   ]
  },
  {
   "cell_type": "code",
   "execution_count": 24,
   "metadata": {
    "collapsed": false
   },
   "outputs": [
    {
     "name": "stdout",
     "output_type": "stream",
     "text": [
      "6,7M\tmovielens-denorm.bcolz\n",
      "In [24] used 0.016 MiB RAM in 0.114s, peaked 0.000 MiB above current, total RAM usage 418.523 MiB\n"
     ]
    }
   ],
   "source": [
    "!du -sh $bcolz_dir"
   ]
  },
  {
   "cell_type": "markdown",
   "metadata": {},
   "source": [
    "and let's compare it with the internal estimated size:"
   ]
  },
  {
   "cell_type": "code",
   "execution_count": 25,
   "metadata": {
    "collapsed": false
   },
   "outputs": [
    {
     "data": {
      "text/plain": [
       "ctable((1000209,), [('movie_id', '<i8'), ('title', 'S82'), ('genres', 'S47'), ('user_id', '<i8'), ('rating', '<i8'), ('unix_timestamp', '<i8')])\n",
       "  nbytes: 153.57 MB; cbytes: 8.01 MB; ratio: 19.16\n",
       "  cparams := cparams(clevel=5, shuffle=1, cname='lz4')\n",
       "  rootdir := 'movielens-denorm.bcolz'\n",
       "[(1, 'Toy Story (1995)', \"Animation|Children's|Comedy\", 1, 5, 978824268)\n",
       " (1, 'Toy Story (1995)', \"Animation|Children's|Comedy\", 6, 4, 978237008)\n",
       " (1, 'Toy Story (1995)', \"Animation|Children's|Comedy\", 8, 4, 978233496)\n",
       " ...,\n",
       " (3952, 'Contender, The (2000)', 'Drama|Thriller', 5837, 4, 1011902656)\n",
       " (3952, 'Contender, The (2000)', 'Drama|Thriller', 5927, 1, 979852537)\n",
       " (3952, 'Contender, The (2000)', 'Drama|Thriller', 5998, 4, 1001781044)]"
      ]
     },
     "execution_count": 25,
     "metadata": {},
     "output_type": "execute_result"
    },
    {
     "name": "stdout",
     "output_type": "stream",
     "text": [
      "In [25] used 2.012 MiB RAM in 0.004s, peaked 0.000 MiB above current, total RAM usage 420.535 MiB\n"
     ]
    }
   ],
   "source": [
    "zlens"
   ]
  },
  {
   "cell_type": "markdown",
   "metadata": {},
   "source": [
    "So, the internal estimated size is a bit higher than the actual size on-disk, which means that bcolz offers a conservative guess in general.\n",
    "\n",
    "Another interesting fact is that the de-normalized version of the ctable takes less space than the normalized version in a relational database, and the query speed is still faster (than SQLite at least).\n",
    "\n",
    "But there are other ways to store compressed tables.  Let's visit PyTables and see how it performs."
   ]
  },
  {
   "cell_type": "markdown",
   "metadata": {},
   "source": [
    "## PyTables"
   ]
  },
  {
   "cell_type": "code",
   "execution_count": 26,
   "metadata": {
    "collapsed": false
   },
   "outputs": [
    {
     "name": "stdout",
     "output_type": "stream",
     "text": [
      "In [26] used 0.777 MiB RAM in 0.615s, peaked 0.000 MiB above current, total RAM usage 421.312 MiB\n"
     ]
    }
   ],
   "source": [
    "h5denorm = \"movielens-denorm.h5\"\n",
    "if os.path.exists(h5denorm):\n",
    "    os.unlink(h5denorm)\n",
    "zlens.tohdf5(h5denorm, nodepath='/h5lens')"
   ]
  },
  {
   "cell_type": "code",
   "execution_count": 27,
   "metadata": {
    "collapsed": false
   },
   "outputs": [
    {
     "name": "stdout",
     "output_type": "stream",
     "text": [
      "In [27] used 0.074 MiB RAM in 0.005s, peaked 0.000 MiB above current, total RAM usage 421.387 MiB\n"
     ]
    }
   ],
   "source": [
    "import tables\n",
    "h5file = tables.open_file(h5denorm)\n",
    "h5lens = h5file.root.h5lens"
   ]
  },
  {
   "cell_type": "code",
   "execution_count": 28,
   "metadata": {
    "collapsed": false
   },
   "outputs": [
    {
     "data": {
      "text/plain": [
       "/h5lens (Table(1000209,), shuffle, blosc:lz4(5)) ''\n",
       "  description := {\n",
       "  \"movie_id\": Int64Col(shape=(), dflt=0, pos=0),\n",
       "  \"title\": StringCol(itemsize=82, shape=(), dflt='', pos=1),\n",
       "  \"genres\": StringCol(itemsize=47, shape=(), dflt='', pos=2),\n",
       "  \"user_id\": Int64Col(shape=(), dflt=0, pos=3),\n",
       "  \"rating\": Int64Col(shape=(), dflt=0, pos=4),\n",
       "  \"unix_timestamp\": Int64Col(shape=(), dflt=0, pos=5)}\n",
       "  byteorder := 'little'\n",
       "  chunkshape := (1628,)"
      ]
     },
     "execution_count": 28,
     "metadata": {},
     "output_type": "execute_result"
    },
    {
     "name": "stdout",
     "output_type": "stream",
     "text": [
      "In [28] used 0.000 MiB RAM in 0.101s, peaked 0.000 MiB above current, total RAM usage 421.387 MiB\n"
     ]
    }
   ],
   "source": [
    "# Let's have a look at the HDF5 table\n",
    "h5lens"
   ]
  },
  {
   "cell_type": "code",
   "execution_count": 29,
   "metadata": {
    "collapsed": false
   },
   "outputs": [
    {
     "name": "stdout",
     "output_type": "stream",
     "text": [
      "CPU times: user 216 ms, sys: 4 ms, total: 220 ms\n",
      "Wall time: 193 ms\n",
      "In [29] used 0.016 MiB RAM in 0.195s, peaked 0.000 MiB above current, total RAM usage 421.402 MiB\n"
     ]
    }
   ],
   "source": [
    "%time result = [r['user_id'] for r in h5lens.where(\"(title == b'Tom and Huck (1995)') & (rating == 5)\")]"
   ]
  },
  {
   "cell_type": "code",
   "execution_count": 30,
   "metadata": {
    "collapsed": false
   },
   "outputs": [
    {
     "data": {
      "text/plain": [
       "[75, 3842, 6031]"
      ]
     },
     "execution_count": 30,
     "metadata": {},
     "output_type": "execute_result"
    },
    {
     "name": "stdout",
     "output_type": "stream",
     "text": [
      "In [30] used 0.023 MiB RAM in 0.004s, peaked 0.000 MiB above current, total RAM usage 421.426 MiB\n"
     ]
    }
   ],
   "source": [
    "# keep the run-time for reference\n",
    "qtime_pytables = mw.measurements.time_delta\n",
    "# ...and print the result (for reference too)\n",
    "result"
   ]
  },
  {
   "cell_type": "markdown",
   "metadata": {
    "collapsed": false
   },
   "source": [
    "So, it seems that PyTables has a similar performance than SQLite for the queries (200 ms vs 170 ms for the denormalized case).  What about the size of the HDF5 file?"
   ]
  },
  {
   "cell_type": "code",
   "execution_count": 31,
   "metadata": {
    "collapsed": false
   },
   "outputs": [
    {
     "name": "stdout",
     "output_type": "stream",
     "text": [
      "-rw-rw-r-- 1 faltet faltet 6,5M abr  4 13:20 movielens-denorm.h5\n",
      "In [31] used 0.004 MiB RAM in 0.116s, peaked 0.000 MiB above current, total RAM usage 421.430 MiB\n"
     ]
    }
   ],
   "source": [
    "h5file.close()\n",
    "!ls -lh $h5denorm"
   ]
  },
  {
   "cell_type": "markdown",
   "metadata": {},
   "source": [
    "6.5 MB is very close to 6.6 MB that used bcolz (which is expected because both are using LZ4 as the compressor), and both are much less than pandas and SQLite.\n",
    "\n",
    "Now, pandas comes with its own interface to PyTables via the HDFStore sub-package, and we are curious to see how it fares compared with the native PyTables approach.  Let's check that out."
   ]
  },
  {
   "cell_type": "markdown",
   "metadata": {},
   "source": [
    "## HDFStore (pandas HDF5 via PyTables)"
   ]
  },
  {
   "cell_type": "code",
   "execution_count": 32,
   "metadata": {
    "collapsed": false
   },
   "outputs": [
    {
     "name": "stdout",
     "output_type": "stream",
     "text": [
      "In [32] used -2.453 MiB RAM in 11.097s, peaked 125.625 MiB above current, total RAM usage 418.977 MiB\n"
     ]
    }
   ],
   "source": [
    "h5pandas = \"movielens-pandas.h5\"\n",
    "if os.path.exists(h5pandas):\n",
    "    os.unlink(h5pandas)\n",
    "from pandas import HDFStore\n",
    "hdf = HDFStore(h5pandas, complevel=5, complib=\"blosc\")\n",
    "hdf.put('h5lens', lens, format='table', data_columns=True)"
   ]
  },
  {
   "cell_type": "code",
   "execution_count": 33,
   "metadata": {
    "collapsed": false
   },
   "outputs": [
    {
     "name": "stdout",
     "output_type": "stream",
     "text": [
      "CPU times: user 24 ms, sys: 0 ns, total: 24 ms\n",
      "Wall time: 20.9 ms\n"
     ]
    },
    {
     "data": {
      "text/html": [
       "<div>\n",
       "<table border=\"1\" class=\"dataframe\">\n",
       "  <thead>\n",
       "    <tr style=\"text-align: right;\">\n",
       "      <th></th>\n",
       "      <th>user_id</th>\n",
       "    </tr>\n",
       "  </thead>\n",
       "  <tbody>\n",
       "    <tr>\n",
       "      <th>5121</th>\n",
       "      <td>75</td>\n",
       "    </tr>\n",
       "    <tr>\n",
       "      <th>5164</th>\n",
       "      <td>3842</td>\n",
       "    </tr>\n",
       "    <tr>\n",
       "      <th>5187</th>\n",
       "      <td>6031</td>\n",
       "    </tr>\n",
       "  </tbody>\n",
       "</table>\n",
       "</div>"
      ],
      "text/plain": [
       "      user_id\n",
       "5121       75\n",
       "5164     3842\n",
       "5187     6031"
      ]
     },
     "execution_count": 33,
     "metadata": {},
     "output_type": "execute_result"
    },
    {
     "name": "stdout",
     "output_type": "stream",
     "text": [
      "In [33] used 0.062 MiB RAM in 0.027s, peaked 0.000 MiB above current, total RAM usage 419.039 MiB\n"
     ]
    }
   ],
   "source": [
    "%time hdf.select('h5lens', where=\"(title == 'Tom and Huck (1995)') & (rating == 5)\", columns=[\"user_id\"])"
   ]
  },
  {
   "cell_type": "code",
   "execution_count": 34,
   "metadata": {
    "collapsed": false
   },
   "outputs": [
    {
     "data": {
      "text/plain": [
       "[75, 3842, 6031]"
      ]
     },
     "execution_count": 34,
     "metadata": {},
     "output_type": "execute_result"
    },
    {
     "name": "stdout",
     "output_type": "stream",
     "text": [
      "In [34] used 0.031 MiB RAM in 0.016s, peaked 0.000 MiB above current, total RAM usage 419.070 MiB\n"
     ]
    }
   ],
   "source": [
    "# keep the run-time for reference\n",
    "qtime_pandas_hdf5 = mw.measurements.time_delta\n",
    "# ...and print the result (for reference too)\n",
    "result"
   ]
  },
  {
   "cell_type": "markdown",
   "metadata": {},
   "source": [
    "As we can see, the time (26 ms) is almost 2x better than to the time that it takes the query on a pandas DataFrame in memory (44 ms).  What about the size on-disk?"
   ]
  },
  {
   "cell_type": "code",
   "execution_count": 35,
   "metadata": {
    "collapsed": false
   },
   "outputs": [
    {
     "name": "stdout",
     "output_type": "stream",
     "text": [
      "In [35] used 2.016 MiB RAM in 0.183s, peaked 0.000 MiB above current, total RAM usage 421.086 MiB\n"
     ]
    }
   ],
   "source": [
    "hdf.close()"
   ]
  },
  {
   "cell_type": "code",
   "execution_count": 36,
   "metadata": {
    "collapsed": false
   },
   "outputs": [
    {
     "name": "stdout",
     "output_type": "stream",
     "text": [
      "-rw-rw-r-- 1 faltet faltet 13M abr  4 13:20 movielens-pandas.h5\n",
      "In [36] used -3.980 MiB RAM in 0.117s, peaked 0.000 MiB above current, total RAM usage 417.105 MiB\n"
     ]
    }
   ],
   "source": [
    "!ls -lh $h5pandas"
   ]
  },
  {
   "cell_type": "markdown",
   "metadata": {},
   "source": [
    "Ok, so 13 MB is around 2x larger than a pure PyTables file with the same info (6.5 MB).  Where the overhead comes from?  Well, it turns out that pandas makes use of the indexing capabilities of PyTables automatically, so let's make PyTables to index the columns that participate in the query."
   ]
  },
  {
   "cell_type": "markdown",
   "metadata": {},
   "source": [
    "## Indexing (PyTables)"
   ]
  },
  {
   "cell_type": "code",
   "execution_count": 37,
   "metadata": {
    "collapsed": false
   },
   "outputs": [
    {
     "name": "stdout",
     "output_type": "stream",
     "text": [
      "In [37] used 0.000 MiB RAM in 0.009s, peaked 0.000 MiB above current, total RAM usage 417.105 MiB\n"
     ]
    }
   ],
   "source": [
    "## Copy the original PyTables table into another file\n",
    "import shutil\n",
    "h5idx = \"movielens-indexed.h5\"\n",
    "if os.path.exists(h5idx):\n",
    "    os.unlink(h5idx)\n",
    "shutil.copyfile(h5denorm, h5idx)"
   ]
  },
  {
   "cell_type": "code",
   "execution_count": 38,
   "metadata": {
    "collapsed": false
   },
   "outputs": [
    {
     "name": "stdout",
     "output_type": "stream",
     "text": [
      "In [38] used 0.004 MiB RAM in 0.002s, peaked 0.000 MiB above current, total RAM usage 417.109 MiB\n"
     ]
    }
   ],
   "source": [
    "# Open the new file in 'a'ppend mode\n",
    "h5i = tables.open_file(h5idx, mode=\"a\")"
   ]
  },
  {
   "cell_type": "code",
   "execution_count": 39,
   "metadata": {
    "collapsed": false
   },
   "outputs": [
    {
     "data": {
      "text/plain": [
       "1000209"
      ]
     },
     "execution_count": 39,
     "metadata": {},
     "output_type": "execute_result"
    },
    {
     "name": "stdout",
     "output_type": "stream",
     "text": [
      "In [39] used 0.012 MiB RAM in 4.424s, peaked 161.797 MiB above current, total RAM usage 417.121 MiB\n"
     ]
    }
   ],
   "source": [
    "# Create an index for the 'title' column\n",
    "h5lens = h5i.root.h5lens\n",
    "h5lens.cols.title.create_csindex()"
   ]
  },
  {
   "cell_type": "code",
   "execution_count": 40,
   "metadata": {
    "collapsed": false
   },
   "outputs": [
    {
     "name": "stdout",
     "output_type": "stream",
     "text": [
      "1 loop, best of 1: 4.6 ms per loop\n",
      "In [40] used 0.008 MiB RAM in 0.009s, peaked 0.000 MiB above current, total RAM usage 417.129 MiB\n"
     ]
    }
   ],
   "source": [
    "# ...and redo the query...\n",
    "t = %timeit -r1 -n1 -o result = [r['user_id'] for r in h5lens.where(\"(title == b'Tom and Huck (1995)') & (rating == 5)\")]"
   ]
  },
  {
   "cell_type": "code",
   "execution_count": 41,
   "metadata": {
    "collapsed": false
   },
   "outputs": [
    {
     "data": {
      "text/plain": [
       "[75, 3842, 6031]"
      ]
     },
     "execution_count": 41,
     "metadata": {},
     "output_type": "execute_result"
    },
    {
     "name": "stdout",
     "output_type": "stream",
     "text": [
      "In [41] used 0.004 MiB RAM in 0.059s, peaked 0.000 MiB above current, total RAM usage 417.133 MiB\n"
     ]
    }
   ],
   "source": [
    "# keep the run-time for reference\n",
    "qtime_pytables_index1 = t.best\n",
    "# ...and print the result (for reference too)\n",
    "result"
   ]
  },
  {
   "cell_type": "markdown",
   "metadata": {},
   "source": [
    "So, by indexing one column we have got a 60x of acceleration wrt PyTables (5 ms vs 300 ms).  What happens if we index the 'rating' column?"
   ]
  },
  {
   "cell_type": "code",
   "execution_count": 42,
   "metadata": {
    "collapsed": false
   },
   "outputs": [
    {
     "data": {
      "text/plain": [
       "1000209"
      ]
     },
     "execution_count": 42,
     "metadata": {},
     "output_type": "execute_result"
    },
    {
     "name": "stdout",
     "output_type": "stream",
     "text": [
      "In [42] used 0.051 MiB RAM in 0.849s, peaked 0.000 MiB above current, total RAM usage 417.184 MiB\n"
     ]
    }
   ],
   "source": [
    "h5lens.cols.rating.create_csindex()"
   ]
  },
  {
   "cell_type": "code",
   "execution_count": 43,
   "metadata": {
    "collapsed": false
   },
   "outputs": [
    {
     "name": "stdout",
     "output_type": "stream",
     "text": [
      "1 loop, best of 1: 1.47 ms per loop\n",
      "In [43] used 0.020 MiB RAM in 0.005s, peaked 0.000 MiB above current, total RAM usage 417.203 MiB\n"
     ]
    }
   ],
   "source": [
    "t = %timeit -r1 -n1 -o result = [r['user_id'] for r in h5lens.where(\"(title == b'Tom and Huck (1995)') & (rating == 5)\")]"
   ]
  },
  {
   "cell_type": "code",
   "execution_count": 44,
   "metadata": {
    "collapsed": false
   },
   "outputs": [
    {
     "data": {
      "text/plain": [
       "[75, 3842, 6031]"
      ]
     },
     "execution_count": 44,
     "metadata": {},
     "output_type": "execute_result"
    },
    {
     "name": "stdout",
     "output_type": "stream",
     "text": [
      "In [44] used 0.000 MiB RAM in 0.042s, peaked 0.000 MiB above current, total RAM usage 417.203 MiB\n"
     ]
    }
   ],
   "source": [
    "# keep the run-time for reference\n",
    "qtime_pytables_index2 = t.best\n",
    "# ...and print the result (for reference too)\n",
    "result"
   ]
  },
  {
   "cell_type": "markdown",
   "metadata": {},
   "source": [
    "Ok, that's another ~8x additional acceleration, and the best time that we ever reached for this query."
   ]
  },
  {
   "cell_type": "code",
   "execution_count": 45,
   "metadata": {
    "collapsed": false
   },
   "outputs": [
    {
     "name": "stdout",
     "output_type": "stream",
     "text": [
      "In [45] used 0.020 MiB RAM in 0.101s, peaked 0.000 MiB above current, total RAM usage 417.223 MiB\n"
     ]
    }
   ],
   "source": [
    "h5i.close()"
   ]
  },
  {
   "cell_type": "markdown",
   "metadata": {},
   "source": [
    "## Indexing (SQLite)"
   ]
  },
  {
   "cell_type": "markdown",
   "metadata": {},
   "source": [
    "We are of course curious to find out how indexing in relational databases fares against PyTables' own indexing.  Let's check that out:"
   ]
  },
  {
   "cell_type": "code",
   "execution_count": 46,
   "metadata": {
    "collapsed": false
   },
   "outputs": [
    {
     "name": "stdout",
     "output_type": "stream",
     "text": [
      "In [46] used -0.070 MiB RAM in 0.083s, peaked 0.000 MiB above current, total RAM usage 417.152 MiB\n"
     ]
    }
   ],
   "source": [
    "sqlite_idx = \"movielens-indexed.sqlite\"\n",
    "if os.path.exists(sqlite_idx):\n",
    "    os.unlink(sqlite_idx)\n",
    "shutil.copyfile(sqlite_denorm, sqlite_idx)\n",
    "conn_idx = sqlite3.connect(sqlite_idx)"
   ]
  },
  {
   "cell_type": "code",
   "execution_count": 47,
   "metadata": {
    "collapsed": false
   },
   "outputs": [
    {
     "name": "stdout",
     "output_type": "stream",
     "text": [
      "In [47] used 0.000 MiB RAM in 2.707s, peaked 30.707 MiB above current, total RAM usage 417.152 MiB\n"
     ]
    }
   ],
   "source": [
    "c = conn_idx.cursor()\n",
    "c.execute(\"CREATE INDEX index_title ON lens (title)\")\n",
    "conn_idx.commit()"
   ]
  },
  {
   "cell_type": "code",
   "execution_count": 48,
   "metadata": {
    "collapsed": false
   },
   "outputs": [
    {
     "name": "stdout",
     "output_type": "stream",
     "text": [
      "1 loop, best of 1: 181 µs per loop\n",
      "In [48] used 0.000 MiB RAM in 0.003s, peaked 0.000 MiB above current, total RAM usage 417.152 MiB\n"
     ]
    }
   ],
   "source": [
    "q = \"select user_id from lens where title == 'Tom and Huck (1995)' and rating == 5\"\n",
    "t = %timeit -r1 -n1 -o result = [r for r in c.execute(q)]\n",
    "# keep the run-time for reference\n",
    "qtime_sqlite_index1 = t.best"
   ]
  },
  {
   "cell_type": "code",
   "execution_count": 49,
   "metadata": {
    "collapsed": false
   },
   "outputs": [
    {
     "data": {
      "text/plain": [
       "[75, 3842, 6031]"
      ]
     },
     "execution_count": 49,
     "metadata": {},
     "output_type": "execute_result"
    },
    {
     "name": "stdout",
     "output_type": "stream",
     "text": [
      "In [49] used 0.000 MiB RAM in 0.002s, peaked 0.000 MiB above current, total RAM usage 417.152 MiB\n"
     ]
    }
   ],
   "source": [
    "# ...and print the result (for reference too)\n",
    "result"
   ]
  },
  {
   "cell_type": "markdown",
   "metadata": {},
   "source": [
    "Wow, with quite less than 1 ms we are getting the best figure so far, and faster than the best figure with indexed PyTables."
   ]
  },
  {
   "cell_type": "markdown",
   "metadata": {},
   "source": [
    "## Exercise\n",
    "\n",
    "What will happen if index the rating column?  We should get better speed, right?  Try it out and report the improvement that you are seeing."
   ]
  },
  {
   "cell_type": "markdown",
   "metadata": {},
   "source": [
    "### Solution"
   ]
  },
  {
   "cell_type": "code",
   "execution_count": 50,
   "metadata": {
    "collapsed": false,
    "scrolled": true
   },
   "outputs": [
    {
     "name": "stdout",
     "output_type": "stream",
     "text": [
      "In [50] used 0.000 MiB RAM in 0.726s, peaked 7.328 MiB above current, total RAM usage 417.152 MiB\n"
     ]
    }
   ],
   "source": [
    "c.execute(\"CREATE INDEX index_rating ON lens (rating)\")\n",
    "conn_idx.commit()"
   ]
  },
  {
   "cell_type": "code",
   "execution_count": 51,
   "metadata": {
    "collapsed": false
   },
   "outputs": [
    {
     "name": "stdout",
     "output_type": "stream",
     "text": [
      "1 loop, best of 1: 134 ms per loop\n",
      "In [51] used 0.004 MiB RAM in 0.137s, peaked 0.000 MiB above current, total RAM usage 417.156 MiB\n"
     ]
    }
   ],
   "source": [
    "q = \"select user_id from lens where title == 'Tom and Huck (1995)' and rating == 5\"\n",
    "t = %timeit -r1 -n1 -o result = [r for r in c.execute(q)]"
   ]
  },
  {
   "cell_type": "markdown",
   "metadata": {},
   "source": [
    "Uh, we are getting far worse performance with 2 indexes. Take away lesson: indexing is a tricky thing and the best way to assess the improvement in performance is by trying it out, so do not blindly index everthing."
   ]
  },
  {
   "cell_type": "markdown",
   "metadata": {},
   "source": [
    "## Final performance comparison"
   ]
  },
  {
   "cell_type": "code",
   "execution_count": 52,
   "metadata": {
    "collapsed": false
   },
   "outputs": [
    {
     "name": "stdout",
     "output_type": "stream",
     "text": [
      "In [52] used 7.242 MiB RAM in 0.106s, peaked 0.000 MiB above current, total RAM usage 424.398 MiB\n"
     ]
    }
   ],
   "source": [
    "%matplotlib inline"
   ]
  },
  {
   "cell_type": "code",
   "execution_count": 53,
   "metadata": {
    "collapsed": false
   },
   "outputs": [
    {
     "name": "stderr",
     "output_type": "stream",
     "text": [
      "/home/faltet/miniconda/lib/python2.7/site-packages/IPython/core/interactiveshell.py:2885: FutureWarning: \n",
      "mpl_style had been deprecated and will be removed in a future version.\n",
      "Use `matplotlib.pyplot.style.use` instead.\n",
      "\n",
      "  exec(code_obj, self.user_global_ns, self.user_ns)\n"
     ]
    },
    {
     "data": {
      "text/plain": [
       "<matplotlib.axes._subplots.AxesSubplot at 0x7fbc5f5c4d90>"
      ]
     },
     "execution_count": 53,
     "metadata": {},
     "output_type": "execute_result"
    },
    {
     "name": "stderr",
     "output_type": "stream",
     "text": [
      "/home/faltet/miniconda/lib/python2.7/site-packages/matplotlib/font_manager.py:1287: UserWarning: findfont: Font family [u'monospace'] not found. Falling back to Bitstream Vera Sans\n",
      "  (prop.get_family(), self.defaultFamily[fontext]))\n"
     ]
    },
    {
     "data": {
      "image/png": "[encoded data removed]",
      "text/plain": [
       "<matplotlib.figure.Figure at 0x7fbc5f605d10>"
      ]
     },
     "metadata": {},
     "output_type": "display_data"
    },
    {
     "name": "stdout",
     "output_type": "stream",
     "text": [
      "In [53] used -24.395 MiB RAM in 0.422s, peaked 24.438 MiB above current, total RAM usage 400.004 MiB\n"
     ]
    }
   ],
   "source": [
    "# Query times\n",
    "labels = [\"pandas (in-memory)\", \"bcolz\", \"PyTables\", \"SQLite denorm\", \"pandas w/ PyTables (indexed)\", \"PyTables (indexed)\", \"SQLite (indexed)\"]\n",
    "df = pd.DataFrame({'time (sec)': [qtime_pandas_mem, qtime_bcolz_opt, qtime_pytables, qtime_sqlite_denorm, qtime_pandas_hdf5, qtime_pytables_index2, qtime_sqlite_index1]}, index=labels)\n",
    "pd.options.display.mpl_style = 'default'\n",
    "df.plot(kind='barh', figsize=(12,5), fontsize=16, title=\"Query times for MovieLens 1m\")"
   ]
  },
  {
   "cell_type": "markdown",
   "metadata": {},
   "source": [
    "## Final size comparison"
   ]
  },
  {
   "cell_type": "code",
   "execution_count": 54,
   "metadata": {
    "collapsed": false
   },
   "outputs": [
    {
     "name": "stdout",
     "output_type": "stream",
     "text": [
      "5,8M\tmovielens-1m\n",
      "6,5M\tmovielens-denorm.h5\n",
      "6,7M\tmovielens-denorm.bcolz\n",
      "11M\tmovielens-indexed.h5\n",
      "13M\tmovielens-pandas.h5\n",
      "37M\tmovielens-norm.sqlite\n",
      "78M\tmovielens-denorm.sqlite\n",
      "119M\tmovielens-indexed.sqlite\n",
      "In [54] used 0.000 MiB RAM in 0.120s, peaked 0.000 MiB above current, total RAM usage 400.004 MiB\n"
     ]
    }
   ],
   "source": [
    "!du -sh movielens* | sort -n"
   ]
  },
  {
   "cell_type": "code",
   "execution_count": 55,
   "metadata": {
    "collapsed": false
   },
   "outputs": [
    {
     "data": {
      "text/plain": [
       "<matplotlib.axes._subplots.AxesSubplot at 0x7fbc5579d750>"
      ]
     },
     "execution_count": 55,
     "metadata": {},
     "output_type": "execute_result"
    },
    {
     "data": {
      "image/png": "[encoded data removed]",
      "text/plain": [
       "<matplotlib.figure.Figure at 0x7fbc5f5fa5d0>"
      ]
     },
     "metadata": {},
     "output_type": "display_data"
    },
    {
     "name": "stdout",
     "output_type": "stream",
     "text": [
      "In [55] used 1.027 MiB RAM in 0.301s, peaked 0.000 MiB above current, total RAM usage 401.031 MiB\n"
     ]
    }
   ],
   "source": [
    "# Container sizes\n",
    "df = pd.DataFrame({'size (MB)': [53, 6.6, 6.5, 78, 13, 11, 110]}, index=labels)\n",
    "pd.options.display.mpl_style = 'default'\n",
    "df.plot(kind='barh', figsize=(12,5), fontsize=16, title=\"Container sizes for MovieLens 1m\")"
   ]
  },
  {
   "cell_type": "markdown",
   "metadata": {
    "collapsed": true
   },
   "source": [
    "# Final Overview"
   ]
  },
  {
   "cell_type": "markdown",
   "metadata": {},
   "source": [
    "Fortunately, there are many different solutions for storing large datasets both in-memory and on-disk.  Here it is a summary of the ones that we have seen in this tutorial:\n",
    "\n",
    "* In-core\n",
    "  * Python lists and dictionaries: Included in Python.  Very flexible.  Not efficient for large datasets.\n",
    "  * NumPy: Good for large amounts of data and with a lot of functionality.  Does not support compression.\n",
    "  * Pandas: Good for large amounts of data and with a lot of functionality.  Does not support compression.\n",
    "  * bcolz: Good for large amounts of data, but reduced functionality.  Supports compression.\n",
    "  \n",
    "* Out-of-core\n",
    "  * Pandas/HDFStore: Good for large datasets.  Supports indexing and compression.  Medium query speeds.\n",
    "  * PyTables: Good for large datasets.  Supports indexing and compression.  Good query speeds.\n",
    "  * bcolz: Good for large datasets.  Supports compression, but not indexing.  Medium query speeds.\n",
    "  * SQLite: Can be used for large datasets, but requires lots of storage.  Supports indexing.  Excellent query speeds."
   ]
  },
  {
   "cell_type": "markdown",
   "metadata": {},
   "source": [
    "As you see, every solution has strengths and weaknesses, with wild variations in resource consumptions, so a wise thing to do is to know them better and try to apply the best candidate to your scenario."
   ]
  },
  {
   "cell_type": "markdown",
   "metadata": {},
   "source": [
    "Hope that helped and **enjoy data**."
   ]
  }
 ],
 "metadata": {
  "kernelspec": {
   "display_name": "Python 2",
   "language": "python",
   "name": "python2"
  },
  "language_info": {
   "codemirror_mode": {
    "name": "ipython",
    "version": 2
   },
   "file_extension": ".py",
   "mimetype": "text/x-python",
   "name": "python",
   "nbconvert_exporter": "python",
   "pygments_lexer": "ipython2",
   "version": "2.7.11"
  }
 },
 "nbformat": 4,
 "nbformat_minor": 0
}
