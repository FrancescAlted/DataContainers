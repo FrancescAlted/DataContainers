{
 "cells": [
  {
   "cell_type": "markdown",
   "metadata": {},
   "source": [
    "# Querying tables"
   ]
  },
  {
   "cell_type": "markdown",
   "metadata": {},
   "source": [
    "> Objectives:\n",
    "> * Compare queries of tabular data for **in-memory** containers\n",
    "> * Compare sizes and times for those"
   ]
  },
  {
   "cell_type": "code",
   "execution_count": 1,
   "metadata": {
    "collapsed": false
   },
   "outputs": [
    {
     "name": "stdout",
     "output_type": "stream",
     "text": [
      "In [1] used 0.004 MiB RAM in 0.000s, peaked 0.000 MiB above current, total RAM usage 32.367 MiB\n"
     ]
    }
   ],
   "source": [
    "from ipython_memwatcher import MemWatcher\n",
    "mw = MemWatcher()\n",
    "mw.start_watching_memory()"
   ]
  },
  {
   "cell_type": "code",
   "execution_count": 2,
   "metadata": {
    "collapsed": false
   },
   "outputs": [
    {
     "name": "stdout",
     "output_type": "stream",
     "text": [
      "In [2] used 0.027 MiB RAM in 0.001s, peaked 0.000 MiB above current, total RAM usage 32.395 MiB\n"
     ]
    }
   ],
   "source": [
    "import os\n",
    "dset = 'movielens-1m'\n",
    "fdata = os.path.join(dset, 'ratings.dat.gz')\n",
    "fitem = os.path.join(dset, 'movies.dat')"
   ]
  },
  {
   "cell_type": "code",
   "execution_count": 3,
   "metadata": {
    "collapsed": false
   },
   "outputs": [
    {
     "name": "stdout",
     "output_type": "stream",
     "text": [
      "In [3] used 69.555 MiB RAM in 0.447s, peaked 2.562 MiB above current, total RAM usage 101.949 MiB\n"
     ]
    }
   ],
   "source": [
    "import pandas as pd\n",
    "# pass in column names for each CSV\n",
    "r_cols = ['user_id', 'movie_id', 'rating', 'unix_timestamp']\n",
    "ratings = pd.read_csv(fdata, sep=';', names=r_cols, compression='gzip')\n",
    "\n",
    "m_cols = ['movie_id', 'title', 'genres']\n",
    "movies = pd.read_csv(fitem, sep=';', names=m_cols,\n",
    "                     dtype={'title': object, 'genres': object})"
   ]
  },
  {
   "cell_type": "code",
   "execution_count": 4,
   "metadata": {
    "collapsed": false
   },
   "outputs": [
    {
     "name": "stdout",
     "output_type": "stream",
     "text": [
      "In [4] used 54.469 MiB RAM in 0.133s, peaked 0.000 MiB above current, total RAM usage 156.418 MiB\n"
     ]
    }
   ],
   "source": [
    "lens = pd.merge(movies, ratings)"
   ]
  },
  {
   "cell_type": "code",
   "execution_count": 5,
   "metadata": {
    "collapsed": false
   },
   "outputs": [
    {
     "data": {
      "text/plain": [
       "54.46875"
      ]
     },
     "execution_count": 5,
     "metadata": {},
     "output_type": "execute_result"
    },
    {
     "name": "stdout",
     "output_type": "stream",
     "text": [
      "In [5] used 0.047 MiB RAM in 0.010s, peaked 0.000 MiB above current, total RAM usage 156.465 MiB\n"
     ]
    }
   ],
   "source": [
    "size_pandas = mw.measurements.memory_delta\n",
    "size_pandas"
   ]
  },
  {
   "cell_type": "code",
   "execution_count": 6,
   "metadata": {
    "collapsed": false
   },
   "outputs": [
    {
     "name": "stdout",
     "output_type": "stream",
     "text": [
      "Index             8001672\n",
      "movie_id          8001672\n",
      "title             8001672\n",
      "genres            8001672\n",
      "user_id           8001672\n",
      "rating            8001672\n",
      "unix_timestamp    8001672\n",
      "dtype: int64\n",
      "In [6] used 0.152 MiB RAM in 0.004s, peaked 0.000 MiB above current, total RAM usage 156.617 MiB\n"
     ]
    }
   ],
   "source": [
    "# pandas also comes with its own tool for getting memory usage\n",
    "print(lens.memory_usage())"
   ]
  },
  {
   "cell_type": "markdown",
   "metadata": {},
   "source": [
    "### Exercise\n",
    "\n",
    "Why do you think that the size is the same for every column in the dataframe?\n",
    "\n",
    "*Hint:* Pandas stores the string columns in NumPy containers with 'object' dtype."
   ]
  },
  {
   "cell_type": "code",
   "execution_count": 7,
   "metadata": {
    "collapsed": false
   },
   "outputs": [
    {
     "name": "stdout",
     "output_type": "stream",
     "text": [
      "   movie_id             title                       genres  user_id  rating  \\\n",
      "0         1  Toy Story (1995)  Animation|Children's|Comedy        1       5   \n",
      "1         1  Toy Story (1995)  Animation|Children's|Comedy        6       4   \n",
      "2         1  Toy Story (1995)  Animation|Children's|Comedy        8       4   \n",
      "3         1  Toy Story (1995)  Animation|Children's|Comedy        9       5   \n",
      "4         1  Toy Story (1995)  Animation|Children's|Comedy       10       5   \n",
      "5         1  Toy Story (1995)  Animation|Children's|Comedy       18       4   \n",
      "6         1  Toy Story (1995)  Animation|Children's|Comedy       19       5   \n",
      "7         1  Toy Story (1995)  Animation|Children's|Comedy       21       3   \n",
      "8         1  Toy Story (1995)  Animation|Children's|Comedy       23       4   \n",
      "9         1  Toy Story (1995)  Animation|Children's|Comedy       26       3   \n",
      "\n",
      "   unix_timestamp  \n",
      "0       978824268  \n",
      "1       978237008  \n",
      "2       978233496  \n",
      "3       978225952  \n",
      "4       978226474  \n",
      "5       978154768  \n",
      "6       978555994  \n",
      "7       978139347  \n",
      "8       978463614  \n",
      "9       978130703  \n",
      "<class 'pandas.core.frame.DataFrame'>\n",
      "Int64Index: 1000209 entries, 0 to 1000208\n",
      "Data columns (total 6 columns):\n",
      "movie_id          1000209 non-null int64\n",
      "title             1000209 non-null object\n",
      "genres            1000209 non-null object\n",
      "user_id           1000209 non-null int64\n",
      "rating            1000209 non-null int64\n",
      "unix_timestamp    1000209 non-null int64\n",
      "dtypes: int64(4), object(2)\n",
      "memory usage: 53.4+ MB\n",
      "In [7] used 24.805 MiB RAM in 0.154s, peaked 0.000 MiB above current, total RAM usage 181.422 MiB\n"
     ]
    }
   ],
   "source": [
    "# See how pandas dataframe looks like\n",
    "print(lens[:10])\n",
    "lens.info()"
   ]
  },
  {
   "cell_type": "markdown",
   "metadata": {
    "collapsed": true
   },
   "source": [
    "### Solution"
   ]
  },
  {
   "cell_type": "code",
   "execution_count": 8,
   "metadata": {
    "collapsed": false
   },
   "outputs": [
    {
     "name": "stdout",
     "output_type": "stream",
     "text": [
      "Index              8001672\n",
      "movie_id           8001672\n",
      "title             68344698\n",
      "genres            59662643\n",
      "user_id            8001672\n",
      "rating             8001672\n",
      "unix_timestamp     8001672\n",
      "dtype: int64\n",
      "In [8] used 0.047 MiB RAM in 0.085s, peaked 0.000 MiB above current, total RAM usage 181.469 MiB\n"
     ]
    }
   ],
   "source": [
    "# Use deep=True for including the size of the object types\n",
    "print(lens.memory_usage(deep=True))"
   ]
  },
  {
   "cell_type": "code",
   "execution_count": 9,
   "metadata": {
    "collapsed": false
   },
   "outputs": [
    {
     "data": {
      "text/plain": [
       "160.23225879669189"
      ]
     },
     "execution_count": 9,
     "metadata": {},
     "output_type": "execute_result"
    },
    {
     "name": "stdout",
     "output_type": "stream",
     "text": [
      "In [9] used 0.012 MiB RAM in 0.093s, peaked 0.000 MiB above current, total RAM usage 181.480 MiB\n"
     ]
    }
   ],
   "source": [
    "# For a more realistic memory usage, we are going to use deep=True\n",
    "size_pandas2 = lens.memory_usage(deep=True).sum() / 2**20.\n",
    "size_pandas2"
   ]
  },
  {
   "cell_type": "code",
   "execution_count": 10,
   "metadata": {
    "collapsed": false
   },
   "outputs": [
    {
     "name": "stdout",
     "output_type": "stream",
     "text": [
      "10 loops, best of 3: 30 ms per loop\n"
     ]
    },
    {
     "data": {
      "text/plain": [
       "5121      75\n",
       "5164    3842\n",
       "5187    6031\n",
       "Name: user_id, dtype: int64"
      ]
     },
     "execution_count": 10,
     "metadata": {},
     "output_type": "execute_result"
    },
    {
     "name": "stdout",
     "output_type": "stream",
     "text": [
      "In [10] used 0.191 MiB RAM in 1.287s, peaked 0.000 MiB above current, total RAM usage 181.672 MiB\n"
     ]
    }
   ],
   "source": [
    "# Let's see how fast a query can be\n",
    "result = lens.query(\"(title == 'Tom and Huck (1995)') & (rating == 5)\")['user_id']\n",
    "t = %timeit -o lens.query(\"(title == 'Tom and Huck (1995)') & (rating == 5)\")['user_id']\n",
    "result"
   ]
  },
  {
   "cell_type": "code",
   "execution_count": 11,
   "metadata": {
    "collapsed": false
   },
   "outputs": [
    {
     "name": "stdout",
     "output_type": "stream",
     "text": [
      "In [11] used 0.008 MiB RAM in 0.002s, peaked 0.000 MiB above current, total RAM usage 181.680 MiB\n"
     ]
    }
   ],
   "source": [
    "# Sotre it for future reference\n",
    "qtime_pandas = t.best"
   ]
  },
  {
   "cell_type": "markdown",
   "metadata": {},
   "source": [
    "## Use a compressed in-memory container via `bcolz`"
   ]
  },
  {
   "cell_type": "code",
   "execution_count": 12,
   "metadata": {
    "collapsed": false,
    "scrolled": true
   },
   "outputs": [
    {
     "name": "stdout",
     "output_type": "stream",
     "text": [
      "-=-=-=-=-=-=-=-=-=-=-=-=-=-=-=-=-=-=-=-=-=-=-=-=-=-=-=-=-=-=-=-=-=-=-=-=-=-=\n",
      "bcolz version:     1.0.1.dev99\n",
      "bcolz git info:    1.0.0-99-gcbe1434\n",
      "NumPy version:     1.11.0\n",
      "Blosc version:     1.9.1 ($Date:: 2016-05-20 #$)\n",
      "Blosc compressors: ['blosclz', 'lz4', 'lz4hc', 'snappy', 'zlib']\n",
      "Numexpr version:   2.6.1.dev0\n",
      "Dask version:      0.9.0\n",
      "Python version:    2.7.11 |Continuum Analytics, Inc.| (default, Dec  6 2015, 18:08:32) \n",
      "[GCC 4.4.7 20120313 (Red Hat 4.4.7-1)]\n",
      "Platform:          linux2-x86_64\n",
      "Byte-ordering:     little\n",
      "Detected cores:    8\n",
      "-=-=-=-=-=-=-=-=-=-=-=-=-=-=-=-=-=-=-=-=-=-=-=-=-=-=-=-=-=-=-=-=-=-=-=-=-=-=\n"
     ]
    },
    {
     "data": {
      "text/plain": [
       "8"
      ]
     },
     "execution_count": 12,
     "metadata": {},
     "output_type": "execute_result"
    },
    {
     "name": "stdout",
     "output_type": "stream",
     "text": [
      "In [12] used 7.031 MiB RAM in 0.043s, peaked 0.000 MiB above current, total RAM usage 188.711 MiB\n"
     ]
    }
   ],
   "source": [
    "import bcolz\n",
    "bcolz.print_versions()\n",
    "bcolz.defaults.cparams['cname'] = 'lz4'\n",
    "bcolz.defaults.cparams['clevel'] = 9\n",
    "bcolz.defaults.cparams['shuffle'] = bcolz.BITSHUFFLE  # try with NOSHUFFLE and BITSHUFFLE as well\n",
    "bcolz.set_nthreads(1)"
   ]
  },
  {
   "cell_type": "code",
   "execution_count": 13,
   "metadata": {
    "collapsed": false
   },
   "outputs": [
    {
     "name": "stdout",
     "output_type": "stream",
     "text": [
      "In [13] used 0.340 MiB RAM in 0.195s, peaked 78.199 MiB above current, total RAM usage 189.051 MiB\n"
     ]
    }
   ],
   "source": [
    "zlens = bcolz.ctable.fromdataframe(lens)"
   ]
  },
  {
   "cell_type": "code",
   "execution_count": 14,
   "metadata": {
    "collapsed": false
   },
   "outputs": [
    {
     "data": {
      "text/plain": [
       "0.33984375"
      ]
     },
     "execution_count": 14,
     "metadata": {},
     "output_type": "execute_result"
    },
    {
     "name": "stdout",
     "output_type": "stream",
     "text": [
      "In [14] used 0.012 MiB RAM in 0.003s, peaked 0.000 MiB above current, total RAM usage 189.062 MiB\n"
     ]
    }
   ],
   "source": [
    "size_bcolz = mw.measurements.memory_delta\n",
    "size_bcolz"
   ]
  },
  {
   "cell_type": "markdown",
   "metadata": {},
   "source": [
    "Sometimes the memory reported as used is too much biased (don't know exactly why), so let's repeat the operation, but using a different container:"
   ]
  },
  {
   "cell_type": "code",
   "execution_count": 15,
   "metadata": {
    "collapsed": false
   },
   "outputs": [
    {
     "name": "stdout",
     "output_type": "stream",
     "text": [
      "In [15] used 0.062 MiB RAM in 0.190s, peaked 78.031 MiB above current, total RAM usage 189.125 MiB\n"
     ]
    }
   ],
   "source": [
    "zlens2 = bcolz.ctable.fromdataframe(lens)"
   ]
  },
  {
   "cell_type": "code",
   "execution_count": 16,
   "metadata": {
    "collapsed": false
   },
   "outputs": [
    {
     "data": {
      "text/plain": [
       "7.253473281860352"
      ]
     },
     "execution_count": 16,
     "metadata": {},
     "output_type": "execute_result"
    },
    {
     "name": "stdout",
     "output_type": "stream",
     "text": [
      "In [16] used 0.000 MiB RAM in 0.002s, peaked 0.000 MiB above current, total RAM usage 189.125 MiB\n"
     ]
    }
   ],
   "source": [
    "size_bcolz2 = zlens2.cbytes / 2**20.\n",
    "size_bcolz2"
   ]
  },
  {
   "cell_type": "code",
   "execution_count": 17,
   "metadata": {
    "collapsed": false
   },
   "outputs": [
    {
     "data": {
      "text/plain": [
       "ctable((1000209,), [('movie_id', '<i8'), ('title', 'S82'), ('genres', 'S47'), ('user_id', '<i8'), ('rating', '<i8'), ('unix_timestamp', '<i8')])\n",
       "  nbytes: 153.57 MB; cbytes: 7.25 MB; ratio: 21.17\n",
       "  cparams := cparams(clevel=9, shuffle=2, cname='lz4', quantize=0)\n",
       "[(1, 'Toy Story (1995)', \"Animation|Children's|Comedy\", 1, 5, 978824268)\n",
       " (1, 'Toy Story (1995)', \"Animation|Children's|Comedy\", 6, 4, 978237008)\n",
       " (1, 'Toy Story (1995)', \"Animation|Children's|Comedy\", 8, 4, 978233496)\n",
       " ...,\n",
       " (3952, 'Contender, The (2000)', 'Drama|Thriller', 5837, 4, 1011902656)\n",
       " (3952, 'Contender, The (2000)', 'Drama|Thriller', 5927, 1, 979852537)\n",
       " (3952, 'Contender, The (2000)', 'Drama|Thriller', 5998, 4, 1001781044)]"
      ]
     },
     "execution_count": 17,
     "metadata": {},
     "output_type": "execute_result"
    },
    {
     "name": "stdout",
     "output_type": "stream",
     "text": [
      "In [17] used 0.012 MiB RAM in 0.006s, peaked 0.000 MiB above current, total RAM usage 189.137 MiB\n"
     ]
    }
   ],
   "source": [
    "zlens"
   ]
  },
  {
   "cell_type": "code",
   "execution_count": 18,
   "metadata": {
    "collapsed": false
   },
   "outputs": [
    {
     "data": {
      "text/plain": [
       "22.090418282425375"
      ]
     },
     "execution_count": 18,
     "metadata": {},
     "output_type": "execute_result"
    },
    {
     "name": "stdout",
     "output_type": "stream",
     "text": [
      "In [18] used 0.004 MiB RAM in 0.004s, peaked 0.000 MiB above current, total RAM usage 189.141 MiB\n"
     ]
    }
   ],
   "source": [
    "size_pandas2 / size_bcolz2"
   ]
  },
  {
   "cell_type": "markdown",
   "metadata": {},
   "source": [
    "We can see that the space taken by a bcolz container is around 20x smaller (!) than a pandas one."
   ]
  },
  {
   "cell_type": "code",
   "execution_count": 19,
   "metadata": {
    "collapsed": false
   },
   "outputs": [
    {
     "name": "stdout",
     "output_type": "stream",
     "text": [
      "10 loops, best of 3: 26.6 ms per loop\n",
      "In [19] used 8.320 MiB RAM in 1.137s, peaked 0.000 MiB above current, total RAM usage 197.461 MiB\n"
     ]
    }
   ],
   "source": [
    "# Querying a bcolz dataset\n",
    "resultz = [(r.nrow__, r.user_id) for r in zlens.where(\"(title == b'Tom and Huck (1995)') & (rating == 5)\", outcols=['nrow__', 'user_id'])]\n",
    "t = %timeit -o [(r.nrow__, r.user_id) for r in zlens.where(\"(title == b'Tom and Huck (1995)') & (rating == 5)\", outcols=['nrow__', 'user_id'])]"
   ]
  },
  {
   "cell_type": "code",
   "execution_count": 20,
   "metadata": {
    "collapsed": false
   },
   "outputs": [
    {
     "name": "stdout",
     "output_type": "stream",
     "text": [
      "In [20] used 0.000 MiB RAM in 0.001s, peaked 0.000 MiB above current, total RAM usage 197.461 MiB\n"
     ]
    }
   ],
   "source": [
    "qtime_bcolz = t.best"
   ]
  },
  {
   "cell_type": "code",
   "execution_count": 21,
   "metadata": {
    "collapsed": false
   },
   "outputs": [
    {
     "data": {
      "text/plain": [
       "1.127981118275517"
      ]
     },
     "execution_count": 21,
     "metadata": {},
     "output_type": "execute_result"
    },
    {
     "name": "stdout",
     "output_type": "stream",
     "text": [
      "In [21] used 0.000 MiB RAM in 0.003s, peaked 0.000 MiB above current, total RAM usage 197.461 MiB\n"
     ]
    }
   ],
   "source": [
    "qtime_pandas / qtime_bcolz"
   ]
  },
  {
   "cell_type": "markdown",
   "metadata": {},
   "source": [
    "We see that by using a compressed bcolz container, it provides similar query times than pandas."
   ]
  },
  {
   "cell_type": "code",
   "execution_count": 22,
   "metadata": {
    "collapsed": false
   },
   "outputs": [
    {
     "name": "stdout",
     "output_type": "stream",
     "text": [
      "('results with pandas Dataframe:', 5121      75\n",
      "5164    3842\n",
      "5187    6031\n",
      "Name: user_id, dtype: int64)\n",
      "('results with bcolz ctable:', [(5121, 75), (5164, 3842), (5187, 6031)])\n",
      "In [22] used 0.000 MiB RAM in 0.003s, peaked 0.000 MiB above current, total RAM usage 197.461 MiB\n"
     ]
    }
   ],
   "source": [
    "# Sanity check (always check for your results!)\n",
    "print(\"results with pandas Dataframe:\", result)\n",
    "print(\"results with bcolz ctable:\", resultz)"
   ]
  },
  {
   "cell_type": "markdown",
   "metadata": {},
   "source": [
    "## Use a *uncompressed* in-memory container via `bcolz`"
   ]
  },
  {
   "cell_type": "markdown",
   "metadata": {},
   "source": [
    "So, what happens when we use an uncompressed container in bcolz?  We do expect better speed?  If so, how much?  Let's measure:"
   ]
  },
  {
   "cell_type": "code",
   "execution_count": 23,
   "metadata": {
    "collapsed": false,
    "scrolled": true
   },
   "outputs": [
    {
     "name": "stdout",
     "output_type": "stream",
     "text": [
      "In [23] used 0.000 MiB RAM in 0.001s, peaked 0.000 MiB above current, total RAM usage 197.461 MiB\n"
     ]
    }
   ],
   "source": [
    "bcolz.defaults.cparams['clevel'] = 0"
   ]
  },
  {
   "cell_type": "code",
   "execution_count": 24,
   "metadata": {
    "collapsed": false
   },
   "outputs": [
    {
     "data": {
      "text/plain": [
       "ctable((1000209,), [('movie_id', '<i8'), ('title', 'S82'), ('genres', 'S47'), ('user_id', '<i8'), ('rating', '<i8'), ('unix_timestamp', '<i8')])\n",
       "  nbytes: 153.57 MB; cbytes: 154.50 MB; ratio: 0.99\n",
       "  cparams := cparams(clevel=0, shuffle=2, cname='lz4', quantize=0)\n",
       "[(1, 'Toy Story (1995)', \"Animation|Children's|Comedy\", 1, 5, 978824268)\n",
       " (1, 'Toy Story (1995)', \"Animation|Children's|Comedy\", 6, 4, 978237008)\n",
       " (1, 'Toy Story (1995)', \"Animation|Children's|Comedy\", 8, 4, 978233496)\n",
       " ...,\n",
       " (3952, 'Contender, The (2000)', 'Drama|Thriller', 5837, 4, 1011902656)\n",
       " (3952, 'Contender, The (2000)', 'Drama|Thriller', 5927, 1, 979852537)\n",
       " (3952, 'Contender, The (2000)', 'Drama|Thriller', 5998, 4, 1001781044)]"
      ]
     },
     "execution_count": 24,
     "metadata": {},
     "output_type": "execute_result"
    },
    {
     "name": "stdout",
     "output_type": "stream",
     "text": [
      "In [24] used 263.340 MiB RAM in 0.229s, peaked 0.000 MiB above current, total RAM usage 460.801 MiB\n"
     ]
    }
   ],
   "source": [
    "uzlens = bcolz.ctable.fromdataframe(lens)\n",
    "uzlens"
   ]
  },
  {
   "cell_type": "code",
   "execution_count": 25,
   "metadata": {
    "collapsed": false
   },
   "outputs": [
    {
     "data": {
      "text/plain": [
       "263.33984375"
      ]
     },
     "execution_count": 25,
     "metadata": {},
     "output_type": "execute_result"
    },
    {
     "name": "stdout",
     "output_type": "stream",
     "text": [
      "In [25] used 0.000 MiB RAM in 0.004s, peaked 0.000 MiB above current, total RAM usage 460.801 MiB\n"
     ]
    }
   ],
   "source": [
    "size_ubcolz = mw.measurements.memory_delta\n",
    "size_ubcolz"
   ]
  },
  {
   "cell_type": "code",
   "execution_count": 26,
   "metadata": {
    "collapsed": false
   },
   "outputs": [
    {
     "data": {
      "text/plain": [
       "154.49602890014648"
      ]
     },
     "execution_count": 26,
     "metadata": {},
     "output_type": "execute_result"
    },
    {
     "name": "stdout",
     "output_type": "stream",
     "text": [
      "In [26] used 0.000 MiB RAM in 0.004s, peaked 0.000 MiB above current, total RAM usage 460.801 MiB\n"
     ]
    }
   ],
   "source": [
    "size_ubcolz2 = uzlens.cbytes / 2**20.\n",
    "size_ubcolz2"
   ]
  },
  {
   "cell_type": "code",
   "execution_count": 27,
   "metadata": {
    "collapsed": false
   },
   "outputs": [
    {
     "data": {
      "text/plain": [
       "1.0371286559103265"
      ]
     },
     "execution_count": 27,
     "metadata": {},
     "output_type": "execute_result"
    },
    {
     "name": "stdout",
     "output_type": "stream",
     "text": [
      "In [27] used 0.000 MiB RAM in 0.002s, peaked 0.000 MiB above current, total RAM usage 460.801 MiB\n"
     ]
    }
   ],
   "source": [
    "size_pandas2 / size_ubcolz2"
   ]
  },
  {
   "cell_type": "markdown",
   "metadata": {},
   "source": [
    "We can see that the space taken by an uncompressed bcolz container is very close to a pandas one (but keep an eye on the reported memory usage by memory_watcher)."
   ]
  },
  {
   "cell_type": "code",
   "execution_count": 28,
   "metadata": {
    "collapsed": false
   },
   "outputs": [
    {
     "name": "stdout",
     "output_type": "stream",
     "text": [
      "100 loops, best of 3: 19.2 ms per loop\n",
      "In [28] used 0.543 MiB RAM in 7.924s, peaked 0.000 MiB above current, total RAM usage 461.344 MiB\n"
     ]
    }
   ],
   "source": [
    "# Querying a bcolz dataset\n",
    "resultz = [(r.nrow__, r.user_id) for r in uzlens.where(\"(title == b'Tom and Huck (1995)') & (rating == 5)\", outcols=['nrow__', 'user_id'])]\n",
    "t = %timeit -o [(r.nrow__, r.user_id) for r in uzlens.where(\"(title == b'Tom and Huck (1995)') & (rating == 5)\", outcols=['nrow__', 'user_id'])]"
   ]
  },
  {
   "cell_type": "code",
   "execution_count": 29,
   "metadata": {
    "collapsed": false
   },
   "outputs": [
    {
     "name": "stdout",
     "output_type": "stream",
     "text": [
      "In [29] used 0.008 MiB RAM in 0.002s, peaked 0.000 MiB above current, total RAM usage 461.352 MiB\n"
     ]
    }
   ],
   "source": [
    "qtime_ubcolz = t.best"
   ]
  },
  {
   "cell_type": "code",
   "execution_count": 30,
   "metadata": {
    "collapsed": false
   },
   "outputs": [
    {
     "data": {
      "text/plain": [
       "1.5619854388755132"
      ]
     },
     "execution_count": 30,
     "metadata": {},
     "output_type": "execute_result"
    },
    {
     "name": "stdout",
     "output_type": "stream",
     "text": [
      "In [30] used 0.000 MiB RAM in 0.004s, peaked 0.000 MiB above current, total RAM usage 461.352 MiB\n"
     ]
    }
   ],
   "source": [
    "qtime_pandas / qtime_ubcolz"
   ]
  },
  {
   "cell_type": "markdown",
   "metadata": {
    "collapsed": true
   },
   "source": [
    "## Using structured NumPy arrays"
   ]
  },
  {
   "cell_type": "code",
   "execution_count": 31,
   "metadata": {
    "collapsed": false
   },
   "outputs": [
    {
     "name": "stdout",
     "output_type": "stream",
     "text": [
      "In [31] used 0.000 MiB RAM in 0.412s, peaked 0.000 MiB above current, total RAM usage 461.352 MiB\n"
     ]
    }
   ],
   "source": [
    "nalens = lens.to_records()"
   ]
  },
  {
   "cell_type": "code",
   "execution_count": 32,
   "metadata": {
    "collapsed": false
   },
   "outputs": [
    {
     "data": {
      "text/plain": [
       "0.0"
      ]
     },
     "execution_count": 32,
     "metadata": {},
     "output_type": "execute_result"
    },
    {
     "name": "stdout",
     "output_type": "stream",
     "text": [
      "In [32] used 0.000 MiB RAM in 0.003s, peaked 0.000 MiB above current, total RAM usage 461.352 MiB\n"
     ]
    }
   ],
   "source": [
    "size_numpy = mw.measurements.memory_delta\n",
    "size_numpy"
   ]
  },
  {
   "cell_type": "code",
   "execution_count": 33,
   "metadata": {
    "collapsed": false
   },
   "outputs": [
    {
     "data": {
      "text/plain": [
       "rec.array([ (0, 1, 'Toy Story (1995)', \"Animation|Children's|Comedy\", 1, 5, 978824268),\n",
       " (1, 1, 'Toy Story (1995)', \"Animation|Children's|Comedy\", 6, 4, 978237008),\n",
       " (2, 1, 'Toy Story (1995)', \"Animation|Children's|Comedy\", 8, 4, 978233496),\n",
       " ...,\n",
       " (1000206, 3952, 'Contender, The (2000)', 'Drama|Thriller', 5837, 4, 1011902656),\n",
       " (1000207, 3952, 'Contender, The (2000)', 'Drama|Thriller', 5927, 1, 979852537),\n",
       " (1000208, 3952, 'Contender, The (2000)', 'Drama|Thriller', 5998, 4, 1001781044)], \n",
       "          dtype=[('index', '<i8'), ('movie_id', '<i8'), ('title', 'O'), ('genres', 'O'), ('user_id', '<i8'), ('rating', '<i8'), ('unix_timestamp', '<i8')])"
      ]
     },
     "execution_count": 33,
     "metadata": {},
     "output_type": "execute_result"
    },
    {
     "name": "stdout",
     "output_type": "stream",
     "text": [
      "In [33] used 0.000 MiB RAM in 0.002s, peaked 0.000 MiB above current, total RAM usage 461.352 MiB\n"
     ]
    }
   ],
   "source": [
    "nalens"
   ]
  },
  {
   "cell_type": "code",
   "execution_count": 34,
   "metadata": {
    "collapsed": false
   },
   "outputs": [
    {
     "data": {
      "text/plain": [
       "53.417"
      ]
     },
     "execution_count": 34,
     "metadata": {},
     "output_type": "execute_result"
    },
    {
     "name": "stdout",
     "output_type": "stream",
     "text": [
      "In [34] used 0.000 MiB RAM in 0.002s, peaked 0.000 MiB above current, total RAM usage 461.352 MiB\n"
     ]
    }
   ],
   "source": [
    "size_numpy2 = round((nalens.size * nalens.dtype.itemsize) / 2**20., 3)\n",
    "size_numpy2"
   ]
  },
  {
   "cell_type": "code",
   "execution_count": 35,
   "metadata": {
    "collapsed": false
   },
   "outputs": [
    {
     "data": {
      "text/plain": [
       "159.417"
      ]
     },
     "execution_count": 35,
     "metadata": {},
     "output_type": "execute_result"
    },
    {
     "name": "stdout",
     "output_type": "stream",
     "text": [
      "In [35] used 0.000 MiB RAM in 0.519s, peaked 0.000 MiB above current, total RAM usage 461.352 MiB\n"
     ]
    }
   ],
   "source": [
    "# But, again, this does not account for 'O'bject dtypes, which are stored in its own storage area\n",
    "# So, let's take this into account\n",
    "import sys\n",
    "size_numpy3 = size_numpy2 + round(sum(sum(sys.getsizeof(o) for o in nalens[col]) for col in ('title', 'genres')) // 2**20., 3)\n",
    "size_numpy3"
   ]
  },
  {
   "cell_type": "code",
   "execution_count": 36,
   "metadata": {
    "collapsed": false
   },
   "outputs": [
    {
     "name": "stdout",
     "output_type": "stream",
     "text": [
      "100 loops, best of 3: 13.8 ms per loop\n"
     ]
    },
    {
     "data": {
      "text/plain": [
       "rec.array([ (5121, 8, 'Tom and Huck (1995)', \"Adventure|Children's\", 75, 5, 977851520),\n",
       " (5164, 8, 'Tom and Huck (1995)', \"Adventure|Children's\", 3842, 5, 967986151),\n",
       " (5187, 8, 'Tom and Huck (1995)', \"Adventure|Children's\", 6031, 5, 956718223)], \n",
       "          dtype=[('index', '<i8'), ('movie_id', '<i8'), ('title', 'O'), ('genres', 'O'), ('user_id', '<i8'), ('rating', '<i8'), ('unix_timestamp', '<i8')])"
      ]
     },
     "execution_count": 36,
     "metadata": {},
     "output_type": "execute_result"
    },
    {
     "name": "stdout",
     "output_type": "stream",
     "text": [
      "In [36] used 0.004 MiB RAM in 5.709s, peaked 0.000 MiB above current, total RAM usage 461.355 MiB\n"
     ]
    }
   ],
   "source": [
    "resultna = nalens[(nalens['title'] == 'Tom and Huck (1995)') & (nalens['rating'] == 5)]\n",
    "t = %timeit -o nalens[(nalens['title'] == 'Tom and Huck (1995)') & (nalens['rating'] == 5)]\n",
    "resultna"
   ]
  },
  {
   "cell_type": "markdown",
   "metadata": {},
   "source": [
    "Again, NumPy works the fastest for in-memory data containers, while memory consumption is close to pandas (a hair less actually)."
   ]
  },
  {
   "cell_type": "code",
   "execution_count": 37,
   "metadata": {
    "collapsed": false
   },
   "outputs": [
    {
     "name": "stdout",
     "output_type": "stream",
     "text": [
      "In [37] used 0.000 MiB RAM in 0.002s, peaked 0.000 MiB above current, total RAM usage 461.355 MiB\n"
     ]
    }
   ],
   "source": [
    "qtime_numpy = t.best"
   ]
  },
  {
   "cell_type": "markdown",
   "metadata": {},
   "source": [
    "## Performance comparsion"
   ]
  },
  {
   "cell_type": "code",
   "execution_count": 38,
   "metadata": {
    "collapsed": false,
    "scrolled": true
   },
   "outputs": [
    {
     "name": "stdout",
     "output_type": "stream",
     "text": [
      "In [38] used 6.188 MiB RAM in 0.068s, peaked 0.000 MiB above current, total RAM usage 467.543 MiB\n"
     ]
    }
   ],
   "source": [
    "%matplotlib inline"
   ]
  },
  {
   "cell_type": "code",
   "execution_count": 41,
   "metadata": {
    "collapsed": false,
    "scrolled": true
   },
   "outputs": [
    {
     "data": {
      "text/plain": [
       "<matplotlib.axes._subplots.AxesSubplot at 0x7f35d4f435d0>"
      ]
     },
     "execution_count": 41,
     "metadata": {},
     "output_type": "execute_result"
    },
    {
     "data": {
      "image/png": "[encoded data removed]",
      "text/plain": [
       "<matplotlib.figure.Figure at 0x7f35d4b2f610>"
      ]
     },
     "metadata": {},
     "output_type": "display_data"
    },
    {
     "name": "stdout",
     "output_type": "stream",
     "text": [
      "In [41] used 0.832 MiB RAM in 0.204s, peaked 0.000 MiB above current, total RAM usage 475.625 MiB\n"
     ]
    }
   ],
   "source": [
    "# Query times\n",
    "labels = [\"pandas\", \"bcolz\", \"uncompressed bcolz\", \"numpy (recarray)\"]\n",
    "df = pd.DataFrame({'time (sec)': [qtime_pandas, qtime_bcolz, qtime_ubcolz, qtime_numpy]}, index=labels)\n",
    "pd.options.display.mpl_style = 'default'\n",
    "df.plot(kind='barh', figsize=(12,5), fontsize=16, title=\"Query times for MovieLens 1m (in-memory)\")"
   ]
  },
  {
   "cell_type": "markdown",
   "metadata": {},
   "source": [
    "## Size comparison"
   ]
  },
  {
   "cell_type": "code",
   "execution_count": 42,
   "metadata": {
    "collapsed": false,
    "scrolled": true
   },
   "outputs": [
    {
     "data": {
      "text/plain": [
       "<matplotlib.axes._subplots.AxesSubplot at 0x7f35d4aa03d0>"
      ]
     },
     "execution_count": 42,
     "metadata": {},
     "output_type": "execute_result"
    },
    {
     "data": {
      "image/png": "[encoded data removed]",
      "text/plain": [
       "<matplotlib.figure.Figure at 0x7f35d4b9e690>"
      ]
     },
     "metadata": {},
     "output_type": "display_data"
    },
    {
     "name": "stdout",
     "output_type": "stream",
     "text": [
      "In [42] used 0.914 MiB RAM in 0.213s, peaked 0.000 MiB above current, total RAM usage 476.539 MiB\n"
     ]
    }
   ],
   "source": [
    "# Container sizes\n",
    "df = pd.DataFrame({'size (MB)': [size_pandas2, size_bcolz2, size_ubcolz2, size_numpy3]}, index=labels)\n",
    "pd.options.display.mpl_style = 'default'\n",
    "df.plot(kind='barh', figsize=(12,5), fontsize=16, title=\"Container sizes for MovieLens 1m\")"
   ]
  },
  {
   "cell_type": "markdown",
   "metadata": {},
   "source": [
    "## Rules of thumb for querying in-memory tabular datasets\n",
    "\n",
    "* Choose pure NumPy recarrays if you need the fastest speed\n",
    "* Choose bcolz ctables if you need to store lots of data in limited memory and not want to loose too much speed\n",
    "* Choose pandas if what you need is rich functionality on top of your containers (at the penalty of some speed)"
   ]
  }
 ],
 "metadata": {
  "kernelspec": {
   "display_name": "Python 2",
   "language": "python",
   "name": "python2"
  },
  "language_info": {
   "codemirror_mode": {
    "name": "ipython",
    "version": 2
   },
   "file_extension": ".py",
   "mimetype": "text/x-python",
   "name": "python",
   "nbconvert_exporter": "python",
   "pygments_lexer": "ipython2",
   "version": "2.7.11"
  }
 },
 "nbformat": 4,
 "nbformat_minor": 0
}
